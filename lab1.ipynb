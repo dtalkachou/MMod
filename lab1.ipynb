{
 "cells": [
  {
   "cell_type": "markdown",
   "metadata": {},
   "source": [
    "# ПОСТРОЕНИЕ И ИССЛЕДОВАНИЕ ХАРАКТЕРИСТИК ДАТЧИКОВ БАЗОВЫХ СЛУЧАЙНЫХ ВЕЛИЧИН"
   ]
  },
  {
   "cell_type": "code",
   "execution_count": 1,
   "metadata": {},
   "outputs": [],
   "source": [
    "cap = 8"
   ]
  },
  {
   "cell_type": "markdown",
   "metadata": {},
   "source": [
    "## Метод середины квадратов"
   ]
  },
  {
   "cell_type": "code",
   "execution_count": 2,
   "metadata": {},
   "outputs": [],
   "source": [
    "def f1(z):\n",
    "    r = str(z ** 2)      \n",
    "    e = -cap // 2\n",
    "    s = e - cap\n",
    "    return int(r[s:e])\n",
    "\n",
    "z = 12345678"
   ]
  },
  {
   "cell_type": "markdown",
   "metadata": {},
   "source": [
    "## Мультипликативный конгруэнтный метод"
   ]
  },
  {
   "cell_type": "code",
   "execution_count": 3,
   "metadata": {},
   "outputs": [],
   "source": [
    "f2 = lambda a: (k * a) % m\n",
    "\n",
    "k = 152587890625\n",
    "m = 34359738368\n",
    "a = 12345678"
   ]
  },
  {
   "cell_type": "markdown",
   "metadata": {},
   "source": [
    "## Генерирация СВ"
   ]
  },
  {
   "cell_type": "code",
   "execution_count": 4,
   "metadata": {},
   "outputs": [],
   "source": [
    "l1 = lambda v: v / 10 ** max(cap, len(str(v)))\n",
    "l2 = lambda v: v / m\n",
    "\n",
    "def gen(n):\n",
    "    res1 = []\n",
    "    res2 = []\n",
    "    for v, f, res, l in ((z, f1, res1, l1), (a, f2, res2, l2)):\n",
    "        for _ in range(n):\n",
    "            v = f(v)\n",
    "            res.append(l(v))\n",
    "    return res1, res2\n",
    "\n",
    "n_list = (1000, 1000000)\n",
    "results_1, results_2 = (gen(n) for n in n_list)"
   ]
  },
  {
   "cell_type": "markdown",
   "metadata": {},
   "source": [
    "## Тестирование равномерности"
   ]
  },
  {
   "cell_type": "code",
   "execution_count": 5,
   "metadata": {},
   "outputs": [
    {
     "name": "stdout",
     "output_type": "stream",
     "text": [
      "\n",
      "\n",
      "\n",
      "\n"
     ]
    },
    {
     "data": {
      "image/png": "[encoded data removed]",
      "text/plain": [
       "<Figure size 432x288 with 1 Axes>"
      ]
     },
     "metadata": {
      "needs_background": "light"
     },
     "output_type": "display_data"
    },
    {
     "name": "stdout",
     "output_type": "stream",
     "text": [
      "\n",
      "\n",
      "\n",
      "\n"
     ]
    },
    {
     "data": {
      "image/png": "[encoded data removed]",
      "text/plain": [
       "<Figure size 432x288 with 1 Axes>"
      ]
     },
     "metadata": {
      "needs_background": "light"
     },
     "output_type": "display_data"
    }
   ],
   "source": [
    "import matplotlib.pyplot as plt\n",
    "\n",
    "K = 10\n",
    "d = 1 / K\n",
    "\n",
    "for results in (results_1, results_2):\n",
    "    for args in ((results[0], 'r'), (results[1], 'b')):\n",
    "        for i in range(K):\n",
    "            s, e = i * d, (i + 1) * d\n",
    "            ni = len(list(filter(lambda v: s <= v < e, args[0])))\n",
    "            plt.plot([s,e], [ni/len(args[0]), ni/len(args[0])], color=args[1])\n",
    "        plt.plot([0,1], [d, d], '--', color='gray')\n",
    "        print('\\n')\n",
    "    plt.title(f'Frequency ({len(args[0])} values)')\n",
    "    plt.show()"
   ]
  },
  {
   "cell_type": "markdown",
   "metadata": {},
   "source": [
    "#### Математическое ожидание"
   ]
  },
  {
   "cell_type": "code",
   "execution_count": 6,
   "metadata": {},
   "outputs": [],
   "source": [
    "M = lambda r: sum(r) / len(r)"
   ]
  },
  {
   "cell_type": "markdown",
   "metadata": {},
   "source": [
    "#### Дисперсия"
   ]
  },
  {
   "cell_type": "code",
   "execution_count": 7,
   "metadata": {},
   "outputs": [],
   "source": [
    "def D(r):\n",
    "    _m = M(r) ** 2\n",
    "    return sum(map(lambda x: x ** 2 - _m, r)) / len(r)"
   ]
  },
  {
   "cell_type": "code",
   "execution_count": 8,
   "metadata": {},
   "outputs": [
    {
     "name": "stdout",
     "output_type": "stream",
     "text": [
      "# 1000 значений\n",
      "Мат. ожидание: 0.4914749157000004\n",
      "Дисперсия: 0.08441653677652035\n",
      "Мат. ожидание: 0.49761712624897897\n",
      "Дисперсия: 0.083366629926103\n",
      "# 1000000 значений\n",
      "Мат. ожидание: 0.5047936574420891\n",
      "Дисперсия: 0.08220013832057849\n",
      "Мат. ожидание: 0.49991192817401514\n",
      "Дисперсия: 0.08340163882456343\n"
     ]
    }
   ],
   "source": [
    "for i, n in enumerate(n_list):\n",
    "    print(f'# {n} значений')\n",
    "\n",
    "    for res in (results_1, results_2):\n",
    "        print('Мат. ожидание:', M(res[i]))\n",
    "        print('Дисперсия:', D(res[i]))"
   ]
  },
  {
   "cell_type": "markdown",
   "metadata": {},
   "source": [
    "## Тестирование независимости"
   ]
  },
  {
   "cell_type": "code",
   "execution_count": 9,
   "metadata": {},
   "outputs": [
    {
     "name": "stdout",
     "output_type": "stream",
     "text": [
      "0.02845481176227044\n",
      "-0.0003248655458595718\n"
     ]
    }
   ],
   "source": [
    "s = 3\n",
    "\n",
    "from scipy import stats as st\n",
    "\n",
    "for res in (results_1, results_2):\n",
    "    print(st.pearsonr(res[0][s:], res[1][s:])[0])"
   ]
  }
 ],
 "metadata": {
  "kernelspec": {
   "display_name": "Python 3",
   "language": "python",
   "name": "python3"
  },
  "language_info": {
   "codemirror_mode": {
    "name": "ipython",
    "version": 3
   },
   "file_extension": ".py",
   "mimetype": "text/x-python",
   "name": "python",
   "nbconvert_exporter": "python",
   "pygments_lexer": "ipython3",
   "version": "3.8.2"
  }
 },
 "nbformat": 4,
 "nbformat_minor": 4
}
